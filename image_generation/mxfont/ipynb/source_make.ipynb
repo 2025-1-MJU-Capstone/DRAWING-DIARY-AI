{
 "cells": [
  {
   "cell_type": "code",
   "execution_count": null,
   "metadata": {},
   "outputs": [
    {
     "name": "stdout",
     "output_type": "stream",
     "text": [
      "완성형 한글 PNG 생성 완료!\n"
     ]
    }
   ],
   "source": [
    "from PIL import Image, ImageFont, ImageDraw\n",
    "import os\n",
    "\n",
    "# 설정\n",
    "font_path = \"/home/ahnwooseob/mxfont/malgun.ttf\"\n",
    "output_dir = \"/home/ahnwooseob/mxfont/source_glyphs\"\n",
    "os.makedirs(output_dir, exist_ok=True)\n",
    "\n",
    "start = 0xAC00\n",
    "end = 0xD7A3 + 1\n",
    "\n",
    "font_size = 160  # 살짝 크게\n",
    "font = ImageFont.truetype(font_path, font_size)\n",
    "\n",
    "for code in range(start, end):\n",
    "    char = chr(code)\n",
    "    # 큰 캔버스\n",
    "    img = Image.new(\"L\", (200, 200), color=255)\n",
    "    draw = ImageDraw.Draw(img)\n",
    "\n",
    "    # 글자 크기 측정\n",
    "    bbox = draw.textbbox((0, 0), char, font=font)\n",
    "    w = bbox[2] - bbox[0]\n",
    "    h = bbox[3] - bbox[1]\n",
    "\n",
    "    # 중앙 배치\n",
    "    draw.text(((200 - w) / 2, (200 - h) / 2), char, fill=0, font=font)\n",
    "\n",
    "    # 최종 크기로 Crop\n",
    "    img = img.crop(img.getbbox())  # 글자 영역만\n",
    "    img = img.resize((128, 128), Image.LANCZOS)  # 원하는 크기로 리사이즈\n",
    "\n",
    "    img.save(f\"{output_dir}/{hex(code)}_{char}.png\")\n",
    "\n",
    "print(\"완성형 한글 PNG 생성 완료 (하단 잘림 문제 해결)\")"
   ]
  },
  {
   "cell_type": "code",
   "execution_count": null,
   "metadata": {},
   "outputs": [],
   "source": []
  }
 ],
 "metadata": {
  "kernelspec": {
   "display_name": "mxfont-env",
   "language": "python",
   "name": "python3"
  },
  "language_info": {
   "codemirror_mode": {
    "name": "ipython",
    "version": 3
   },
   "file_extension": ".py",
   "mimetype": "text/x-python",
   "name": "python",
   "nbconvert_exporter": "python",
   "pygments_lexer": "ipython3",
   "version": "3.8.20"
  }
 },
 "nbformat": 4,
 "nbformat_minor": 2
}
