{
 "cells": [
  {
   "cell_type": "code",
   "execution_count": 1,
   "id": "53ff2cc9",
   "metadata": {},
   "outputs": [],
   "source": [
    "import json\n",
    "\n",
    "# 한글 완성형 유니코드 범위: '가' (U+AC00) ~ '힣' (U+D7A3)\n",
    "start = ord('가')  # 0xAC00\n",
    "end = ord('힣') + 1  # 0xD7A3 + 1\n",
    "\n",
    "# 리스트 생성\n",
    "kor_chars = [chr(c) for c in range(start, end)]\n",
    "\n",
    "# 유니코드 escape 형식으로 변환: '\\uc548' 같은 형태\n",
    "unicode_escaped = [c.encode('unicode_escape').decode('utf-8') for c in kor_chars]\n",
    "\n",
    "# 결과 저장\n",
    "with open(\"kor_gen_test.json\", \"w\", encoding=\"utf-8\") as f:\n",
    "    json.dump(unicode_escaped, f, ensure_ascii=False, indent=2)\n"
   ]
  },
  {
   "cell_type": "code",
   "execution_count": null,
   "id": "ce3a2375",
   "metadata": {},
   "outputs": [],
   "source": []
  }
 ],
 "metadata": {
  "kernelspec": {
   "display_name": "mxfont-env",
   "language": "python",
   "name": "python3"
  },
  "language_info": {
   "codemirror_mode": {
    "name": "ipython",
    "version": 3
   },
   "file_extension": ".py",
   "mimetype": "text/x-python",
   "name": "python",
   "nbconvert_exporter": "python",
   "pygments_lexer": "ipython3",
   "version": "3.8.20"
  }
 },
 "nbformat": 4,
 "nbformat_minor": 5
}
