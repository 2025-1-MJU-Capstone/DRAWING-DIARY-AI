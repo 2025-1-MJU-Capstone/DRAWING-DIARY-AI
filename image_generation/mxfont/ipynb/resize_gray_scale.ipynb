{
 "cells": [
  {
   "cell_type": "code",
   "execution_count": 4,
   "metadata": {},
   "outputs": [
    {
     "name": "stdout",
     "output_type": "stream",
     "text": [
      "전체 변환 완료 ✅\n"
     ]
    }
   ],
   "source": [
    "from PIL import Image\n",
    "import os\n",
    "\n",
    "input_dir = \"/home/ahnwooseob/mxfont/my_font_data\"\n",
    "output_dir = \"/home/ahnwooseob/mxfont/reference_images_resized\"\n",
    "os.makedirs(output_dir, exist_ok=True)\n",
    "\n",
    "for filename in os.listdir(input_dir):\n",
    "    if filename.endswith(\".png\"):  # png 파일만 처리\n",
    "        input_path = os.path.join(input_dir, filename)\n",
    "        output_path = os.path.join(output_dir, filename)\n",
    "\n",
    "        img = Image.open(input_path).convert(\"L\")  # 흑백 변환\n",
    "        img = img.resize((128, 128), Image.LANCZOS)  # 128x128 리사이즈\n",
    "        img.save(output_path)\n",
    "\n",
    "print(\"전체 변환 완료 ✅\")\n"
   ]
  },
  {
   "cell_type": "code",
   "execution_count": null,
   "metadata": {},
   "outputs": [],
   "source": []
  }
 ],
 "metadata": {
  "kernelspec": {
   "display_name": "mxfont-env",
   "language": "python",
   "name": "python3"
  },
  "language_info": {
   "codemirror_mode": {
    "name": "ipython",
    "version": 3
   },
   "file_extension": ".py",
   "mimetype": "text/x-python",
   "name": "python",
   "nbconvert_exporter": "python",
   "pygments_lexer": "ipython3",
   "version": "3.8.20"
  }
 },
 "nbformat": 4,
 "nbformat_minor": 2
}
